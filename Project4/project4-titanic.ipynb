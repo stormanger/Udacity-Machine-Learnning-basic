{
 "cells": [
  {
   "cell_type": "markdown",
   "metadata": {},
   "source": [
    "# 一 关于泰坦尼克号\n",
    "\n",
    "    对于泰坦尼克号的认知，首相想到的是电影，不过我一直都没有补过电影，比较可惜。对于一次灾难性的事故，其中的数据是值得分析，同时也有很多疑问，也许能从数据中找到答案。我觉得在灾难中生存下来主要的因素是运气，除了运气之前还有哪些？\n",
    "    1 身份和地位是否能拯救自己的生命？\n",
    "    2 妇女儿童是否会被优先拯救？\n",
    "    3 什么年纪的乘客生存率最高？"
   ]
  },
  {
   "cell_type": "markdown",
   "metadata": {},
   "source": [
    "# 二 数据集及处理"
   ]
  },
  {
   "cell_type": "code",
   "execution_count": 1,
   "metadata": {},
   "outputs": [
    {
     "data": {
      "text/html": [
       "<div>\n",
       "<style scoped>\n",
       "    .dataframe tbody tr th:only-of-type {\n",
       "        vertical-align: middle;\n",
       "    }\n",
       "\n",
       "    .dataframe tbody tr th {\n",
       "        vertical-align: top;\n",
       "    }\n",
       "\n",
       "    .dataframe thead th {\n",
       "        text-align: right;\n",
       "    }\n",
       "</style>\n",
       "<table border=\"1\" class=\"dataframe\">\n",
       "  <thead>\n",
       "    <tr style=\"text-align: right;\">\n",
       "      <th></th>\n",
       "      <th>PassengerId</th>\n",
       "      <th>Survived</th>\n",
       "      <th>Pclass</th>\n",
       "      <th>Name</th>\n",
       "      <th>Sex</th>\n",
       "      <th>Age</th>\n",
       "      <th>SibSp</th>\n",
       "      <th>Parch</th>\n",
       "      <th>Ticket</th>\n",
       "      <th>Fare</th>\n",
       "      <th>Cabin</th>\n",
       "      <th>Embarked</th>\n",
       "    </tr>\n",
       "  </thead>\n",
       "  <tbody>\n",
       "    <tr>\n",
       "      <th>0</th>\n",
       "      <td>1</td>\n",
       "      <td>0</td>\n",
       "      <td>3</td>\n",
       "      <td>Braund, Mr. Owen Harris</td>\n",
       "      <td>male</td>\n",
       "      <td>22.0</td>\n",
       "      <td>1</td>\n",
       "      <td>0</td>\n",
       "      <td>A/5 21171</td>\n",
       "      <td>7.2500</td>\n",
       "      <td>NaN</td>\n",
       "      <td>S</td>\n",
       "    </tr>\n",
       "    <tr>\n",
       "      <th>1</th>\n",
       "      <td>2</td>\n",
       "      <td>1</td>\n",
       "      <td>1</td>\n",
       "      <td>Cumings, Mrs. John Bradley (Florence Briggs Th...</td>\n",
       "      <td>female</td>\n",
       "      <td>38.0</td>\n",
       "      <td>1</td>\n",
       "      <td>0</td>\n",
       "      <td>PC 17599</td>\n",
       "      <td>71.2833</td>\n",
       "      <td>C85</td>\n",
       "      <td>C</td>\n",
       "    </tr>\n",
       "    <tr>\n",
       "      <th>2</th>\n",
       "      <td>3</td>\n",
       "      <td>1</td>\n",
       "      <td>3</td>\n",
       "      <td>Heikkinen, Miss. Laina</td>\n",
       "      <td>female</td>\n",
       "      <td>26.0</td>\n",
       "      <td>0</td>\n",
       "      <td>0</td>\n",
       "      <td>STON/O2. 3101282</td>\n",
       "      <td>7.9250</td>\n",
       "      <td>NaN</td>\n",
       "      <td>S</td>\n",
       "    </tr>\n",
       "    <tr>\n",
       "      <th>3</th>\n",
       "      <td>4</td>\n",
       "      <td>1</td>\n",
       "      <td>1</td>\n",
       "      <td>Futrelle, Mrs. Jacques Heath (Lily May Peel)</td>\n",
       "      <td>female</td>\n",
       "      <td>35.0</td>\n",
       "      <td>1</td>\n",
       "      <td>0</td>\n",
       "      <td>113803</td>\n",
       "      <td>53.1000</td>\n",
       "      <td>C123</td>\n",
       "      <td>S</td>\n",
       "    </tr>\n",
       "    <tr>\n",
       "      <th>4</th>\n",
       "      <td>5</td>\n",
       "      <td>0</td>\n",
       "      <td>3</td>\n",
       "      <td>Allen, Mr. William Henry</td>\n",
       "      <td>male</td>\n",
       "      <td>35.0</td>\n",
       "      <td>0</td>\n",
       "      <td>0</td>\n",
       "      <td>373450</td>\n",
       "      <td>8.0500</td>\n",
       "      <td>NaN</td>\n",
       "      <td>S</td>\n",
       "    </tr>\n",
       "  </tbody>\n",
       "</table>\n",
       "</div>"
      ],
      "text/plain": [
       "   PassengerId  Survived  Pclass  \\\n",
       "0            1         0       3   \n",
       "1            2         1       1   \n",
       "2            3         1       3   \n",
       "3            4         1       1   \n",
       "4            5         0       3   \n",
       "\n",
       "                                                Name     Sex   Age  SibSp  \\\n",
       "0                            Braund, Mr. Owen Harris    male  22.0      1   \n",
       "1  Cumings, Mrs. John Bradley (Florence Briggs Th...  female  38.0      1   \n",
       "2                             Heikkinen, Miss. Laina  female  26.0      0   \n",
       "3       Futrelle, Mrs. Jacques Heath (Lily May Peel)  female  35.0      1   \n",
       "4                           Allen, Mr. William Henry    male  35.0      0   \n",
       "\n",
       "   Parch            Ticket     Fare Cabin Embarked  \n",
       "0      0         A/5 21171   7.2500   NaN        S  \n",
       "1      0          PC 17599  71.2833   C85        C  \n",
       "2      0  STON/O2. 3101282   7.9250   NaN        S  \n",
       "3      0            113803  53.1000  C123        S  \n",
       "4      0            373450   8.0500   NaN        S  "
      ]
     },
     "execution_count": 1,
     "metadata": {},
     "output_type": "execute_result"
    }
   ],
   "source": [
    "import pandas as pd\n",
    "import numpy as np\n",
    "import matplotlib.pyplot as plt\n",
    "%matplotlib inline\n",
    "\n",
    "filename = 'titanic-data.csv'\n",
    "titanic_df = pd.read_csv(filename)\n",
    "titanic_df.head()"
   ]
  },
  {
   "cell_type": "markdown",
   "metadata": {},
   "source": [
    "```\n",
    "数据集包括了891名人员的信息，数据字典为：\n",
    "Variable    Definition\t                                     \n",
    "survival: Survival（幸存与否）\t       0 = No, 1 = Yes                         \n",
    "pclass: Ticket class(船票级别，反应身份地位)\n",
    "Ticket: class（船舱级别）                           \n",
    "name: （名字）\n",
    "sex: （性别）\n",
    "Age: （年龄）\n",
    "sibsp: （兄弟姐妹和配偶的数量）\n",
    "parch: （父母及子女的数量）\t\n",
    "ticket: Ticket number（船票号）\t\n",
    "fare: Passenger fare（票价）\t\n",
    "cabin: \tCabin number（船舱位）\t\n",
    "embarked: Port of Embarkation（上船的港口）\t C = Cherbourg, Q = Queenstown, S = Southampton\n",
    "```\n",
    "    首先清理数据，按照我想了解的3个问题，那么我需要保留的字段是：'Survived', 'Pclass', 'Sex', 'Age'这四个字段的信息。"
   ]
  },
  {
   "cell_type": "code",
   "execution_count": 2,
   "metadata": {},
   "outputs": [
    {
     "data": {
      "text/html": [
       "<div>\n",
       "<style scoped>\n",
       "    .dataframe tbody tr th:only-of-type {\n",
       "        vertical-align: middle;\n",
       "    }\n",
       "\n",
       "    .dataframe tbody tr th {\n",
       "        vertical-align: top;\n",
       "    }\n",
       "\n",
       "    .dataframe thead th {\n",
       "        text-align: right;\n",
       "    }\n",
       "</style>\n",
       "<table border=\"1\" class=\"dataframe\">\n",
       "  <thead>\n",
       "    <tr style=\"text-align: right;\">\n",
       "      <th></th>\n",
       "      <th>Survived</th>\n",
       "      <th>Pclass</th>\n",
       "      <th>Age</th>\n",
       "    </tr>\n",
       "  </thead>\n",
       "  <tbody>\n",
       "    <tr>\n",
       "      <th>count</th>\n",
       "      <td>891.000000</td>\n",
       "      <td>891.000000</td>\n",
       "      <td>714.000000</td>\n",
       "    </tr>\n",
       "    <tr>\n",
       "      <th>mean</th>\n",
       "      <td>0.383838</td>\n",
       "      <td>2.308642</td>\n",
       "      <td>29.699118</td>\n",
       "    </tr>\n",
       "    <tr>\n",
       "      <th>std</th>\n",
       "      <td>0.486592</td>\n",
       "      <td>0.836071</td>\n",
       "      <td>14.526497</td>\n",
       "    </tr>\n",
       "    <tr>\n",
       "      <th>min</th>\n",
       "      <td>0.000000</td>\n",
       "      <td>1.000000</td>\n",
       "      <td>0.420000</td>\n",
       "    </tr>\n",
       "    <tr>\n",
       "      <th>25%</th>\n",
       "      <td>0.000000</td>\n",
       "      <td>2.000000</td>\n",
       "      <td>20.125000</td>\n",
       "    </tr>\n",
       "    <tr>\n",
       "      <th>50%</th>\n",
       "      <td>0.000000</td>\n",
       "      <td>3.000000</td>\n",
       "      <td>28.000000</td>\n",
       "    </tr>\n",
       "    <tr>\n",
       "      <th>75%</th>\n",
       "      <td>1.000000</td>\n",
       "      <td>3.000000</td>\n",
       "      <td>38.000000</td>\n",
       "    </tr>\n",
       "    <tr>\n",
       "      <th>max</th>\n",
       "      <td>1.000000</td>\n",
       "      <td>3.000000</td>\n",
       "      <td>80.000000</td>\n",
       "    </tr>\n",
       "  </tbody>\n",
       "</table>\n",
       "</div>"
      ],
      "text/plain": [
       "         Survived      Pclass         Age\n",
       "count  891.000000  891.000000  714.000000\n",
       "mean     0.383838    2.308642   29.699118\n",
       "std      0.486592    0.836071   14.526497\n",
       "min      0.000000    1.000000    0.420000\n",
       "25%      0.000000    2.000000   20.125000\n",
       "50%      0.000000    3.000000   28.000000\n",
       "75%      1.000000    3.000000   38.000000\n",
       "max      1.000000    3.000000   80.000000"
      ]
     },
     "execution_count": 2,
     "metadata": {},
     "output_type": "execute_result"
    }
   ],
   "source": [
    "titanic_tmp_df = titanic_df[['Survived', 'Pclass', 'Sex', 'Age']]\n",
    "titanic_tmp_df.describe()"
   ]
  },
  {
   "cell_type": "markdown",
   "metadata": {},
   "source": [
    "    这里发现age字段应该有数据是为空值的，需要把空值的数据清理掉，对剩余的714条数据进行分析。"
   ]
  },
  {
   "cell_type": "code",
   "execution_count": 3,
   "metadata": {},
   "outputs": [
    {
     "name": "stdout",
     "output_type": "stream",
     "text": [
      "714\n",
      "   Survived  Pclass     Sex   Age\n",
      "0         0       3    male  22.0\n",
      "1         1       1  female  38.0\n",
      "2         1       3  female  26.0\n",
      "3         1       1  female  35.0\n",
      "4         0       3    male  35.0\n"
     ]
    }
   ],
   "source": [
    "titanic = titanic_tmp_df[titanic_tmp_df[\"Age\"].notnull()]\n",
    "print len(titanic)\n",
    "print titanic.head()"
   ]
  },
  {
   "cell_type": "markdown",
   "metadata": {},
   "source": [
    "    #审阅建议：\n",
    "    #报告中对数据进行了些变更，比如生成新的child变量等。这些变更与数据的分析环节夹杂在一起。\n",
    "    #建议在分析环节前新建一个数据清理环节，将所有对数据的变更操作放入这个环节中。数据处理干净后再将干净的数据放入分析环节开始分析。\n",
    "    #一般数据分析的步骤为：介绍背景及提出问题 --> 数据处理 --> 数据分析 —> 结论和限制.\n",
    "    \n",
    "    因为我需要对妇女儿童数据进行分析，故需在此阶段为数据添加一个字段并判断乘客信息是否为儿童。"
   ]
  },
  {
   "cell_type": "code",
   "execution_count": 4,
   "metadata": {},
   "outputs": [
    {
     "name": "stdout",
     "output_type": "stream",
     "text": [
      "   Survived  Pclass     Sex   Age  Child\n",
      "0         0       3    male  22.0      0\n",
      "1         1       1  female  38.0      0\n",
      "2         1       3  female  26.0      0\n",
      "3         1       1  female  35.0      0\n",
      "4         0       3    male  35.0      0\n"
     ]
    },
    {
     "name": "stderr",
     "output_type": "stream",
     "text": [
      "C:\\ProgramData\\Anaconda2\\lib\\site-packages\\ipykernel_launcher.py:7: SettingWithCopyWarning: \n",
      "A value is trying to be set on a copy of a slice from a DataFrame.\n",
      "Try using .loc[row_indexer,col_indexer] = value instead\n",
      "\n",
      "See the caveats in the documentation: http://pandas.pydata.org/pandas-docs/stable/indexing.html#indexing-view-versus-copy\n",
      "  import sys\n"
     ]
    }
   ],
   "source": [
    "def is_child(age):\n",
    "    if age < 18:\n",
    "        return 1\n",
    "    else:\n",
    "        return 0\n",
    "\n",
    "titanic['Child'] = pd.Series(titanic['Age'].apply(is_child))\n",
    "print titanic.head()"
   ]
  },
  {
   "cell_type": "markdown",
   "metadata": {},
   "source": [
    "    审阅建议：\n",
    "    最后一个问题“哪个年龄区间的生还率最高” 并没有完成。我们要分析的是哪个年龄段的存活率高，而不是哪个年龄段存活的人数最多。\n",
    "    存活人数多并不代表存活率高，比如A年龄段存活100人，但是人口有1000个，B年龄段存活10人，人口20个，哪个存活率高呢？很明显是A。\n",
    "    因此我们需要对其计算存活率。这里提示一下age变量的分析：对于age变量的分析，因为年龄变量为连续变量，与pclass这种分类变量相比分析难度较高。\n",
    "    这里我们的想法是将连续变量转化成分类变量。我们可以新建一个年龄段变量，比如(0, 10], (10, 20]......然后对乘客根据年龄分组。\n",
    "    这样就可以对每一个组像其他几个变量一样计算其存活率啦！\n",
    "    \n",
    "    为了对年龄进行分析，需要添加一个新字段Age_range来记录年龄的分组。"
   ]
  },
  {
   "cell_type": "code",
   "execution_count": 5,
   "metadata": {},
   "outputs": [],
   "source": [
    "def group_age(age, n = 10):\n",
    "    return '[%d ,%d)' % (n * (age//n) , n * (age//n) + n)\n",
    "    '''\n",
    "    switcher = {(0.0 < age <= 10.0):'(0, 10]', (10.0 < age <= 20.0):'(10, 20]'}\n",
    "    if 0.0 < age <= 10.0:\n",
    "        return '(0, 10]'\n",
    "    if 10.0 < age <= 20.0:\n",
    "        return '(10, 20]'\n",
    "    if 20.0 < age <= 30.0:\n",
    "        return '(20, 30]'\n",
    "    if 30.0 < age <= 40.0:\n",
    "        return '(30, 40]'\n",
    "    if 40.0 < age <= 50.0:\n",
    "        return '(40, 50]'\n",
    "    if 50.0 < age <= 60.0:\n",
    "        return '(50, 60]'\n",
    "    if 60.0 < age <= 70.0:\n",
    "        return '(60, 70]'\n",
    "    if 70.0 < age <= 80.0:\n",
    "        return '(70, 80]'\n",
    "    if 80.0 < age <= 90.0:\n",
    "        return '(80, 90]'\n",
    "    if 90.0 < age <= 100.0:\n",
    "        return '(90, 100]'\n",
    "    else:\n",
    "        return '(100, -]'\n",
    "    '''"
   ]
  },
  {
   "cell_type": "code",
   "execution_count": 6,
   "metadata": {},
   "outputs": [
    {
     "name": "stdout",
     "output_type": "stream",
     "text": [
      "   Survived  Pclass     Sex   Age  Child Age_range\n",
      "0         0       3    male  22.0      0  [20 ,30)\n",
      "1         1       1  female  38.0      0  [30 ,40)\n",
      "2         1       3  female  26.0      0  [20 ,30)\n",
      "3         1       1  female  35.0      0  [30 ,40)\n",
      "4         0       3    male  35.0      0  [30 ,40)\n"
     ]
    },
    {
     "name": "stderr",
     "output_type": "stream",
     "text": [
      "C:\\ProgramData\\Anaconda2\\lib\\site-packages\\ipykernel_launcher.py:1: SettingWithCopyWarning: \n",
      "A value is trying to be set on a copy of a slice from a DataFrame.\n",
      "Try using .loc[row_indexer,col_indexer] = value instead\n",
      "\n",
      "See the caveats in the documentation: http://pandas.pydata.org/pandas-docs/stable/indexing.html#indexing-view-versus-copy\n",
      "  \"\"\"Entry point for launching an IPython kernel.\n"
     ]
    }
   ],
   "source": [
    "titanic['Age_range'] = pd.Series(titanic['Age'].apply(group_age))\n",
    "print titanic.head()"
   ]
  },
  {
   "cell_type": "markdown",
   "metadata": {},
   "source": [
    "# 三 数据分析"
   ]
  },
  {
   "cell_type": "markdown",
   "metadata": {},
   "source": [
    "    #审阅建议：\n",
    "    #报告中的分析只进行了存活率计算，而没有计算各个群体的人口数目，这样是有误的。因为采用存活率=该群体存活人口数／该群体数量，单单这个除法的计算而没有观察分母的大小(样本数量)的话这个计算并没有意义。比如说女性存活率计算得出100%，但是如果女性总共只有1个人的话，这个所计算出来的存活率100%可信吗？显然不可以的，因为样本数量太少。所以我们需要对每个计算了存活率的变量计算人口数量分布并且用图形来可视化。"
   ]
  },
  {
   "cell_type": "code",
   "execution_count": 7,
   "metadata": {
    "scrolled": true
   },
   "outputs": [],
   "source": [
    "def survived_rate_with(index):\n",
    "    group = titanic[['Survived', index]].groupby(index)\n",
    "    #print group.sum()  #生还人数组\n",
    "    print 'Number of members in ' + index + ' group'\n",
    "    print group.count()  #总人数组\n",
    "    #group_number = group.count()\n",
    "    survived_rate = group.sum() / group.count()\n",
    "    #print survived_rate\n",
    "    #return survived_rate\n",
    "    survived_rate.plot(kind = 'bar')\n",
    "    group.count().plot(kind = 'pie', subplots=True, autopct = '%.0f%%')\n",
    "    plt.xlabel(index)\n",
    "    plt.ylabel('Survived_rate')\n",
    "    plt.show()"
   ]
  },
  {
   "cell_type": "code",
   "execution_count": 8,
   "metadata": {},
   "outputs": [
    {
     "name": "stdout",
     "output_type": "stream",
     "text": [
      "Number of members in Pclass group\n",
      "        Survived\n",
      "Pclass          \n",
      "1            186\n",
      "2            173\n",
      "3            355\n"
     ]
    },
    {
     "data": {
      "image/png": "[encoded data removed]",
      "text/plain": [
       "<matplotlib.figure.Figure at 0x6d986a0>"
      ]
     },
     "metadata": {},
     "output_type": "display_data"
    },
    {
     "data": {
      "image/png": "[encoded data removed]",
      "text/plain": [
       "<matplotlib.figure.Figure at 0xb816d68>"
      ]
     },
     "metadata": {},
     "output_type": "display_data"
    }
   ],
   "source": [
    "survived_rate_with('Pclass') \n",
    "#.plot(kind = 'bar')\n",
    "#plt.xlabel('Ticket class')\n",
    "#plt.ylabel('Survived_rate')\n",
    "#plt.show()"
   ]
  },
  {
   "cell_type": "markdown",
   "metadata": {},
   "source": [
    "    从上表可以看出，社会地位高或富有的人的生存率更高。是1级和2级仓位在船后或者在上层的甲板么？"
   ]
  },
  {
   "cell_type": "code",
   "execution_count": 9,
   "metadata": {},
   "outputs": [
    {
     "name": "stdout",
     "output_type": "stream",
     "text": [
      "Number of members in Child group\n",
      "       Survived\n",
      "Child          \n",
      "0           601\n",
      "1           113\n"
     ]
    },
    {
     "data": {
      "image/png": "[encoded data removed]",
      "text/plain": [
       "<matplotlib.figure.Figure at 0xc2f8748>"
      ]
     },
     "metadata": {},
     "output_type": "display_data"
    },
    {
     "data": {
      "image/png": "[encoded data removed]",
      "text/plain": [
       "<matplotlib.figure.Figure at 0xc2e4f98>"
      ]
     },
     "metadata": {},
     "output_type": "display_data"
    }
   ],
   "source": [
    "survived_rate_with('Child')\n",
    "#.plot(kind = 'bar')\n",
    "#plt.xlabel('Is child')\n",
    "#plt.ylabel('Survived_rate')\n",
    "#plt.show()"
   ]
  },
  {
   "cell_type": "code",
   "execution_count": 10,
   "metadata": {},
   "outputs": [
    {
     "name": "stdout",
     "output_type": "stream",
     "text": [
      "Number of members in Sex group\n",
      "        Survived\n",
      "Sex             \n",
      "female       261\n",
      "male         453\n"
     ]
    },
    {
     "data": {
      "image/png": "[encoded data removed]",
      "text/plain": [
       "<matplotlib.figure.Figure at 0xc70ebe0>"
      ]
     },
     "metadata": {},
     "output_type": "display_data"
    },
    {
     "data": {
      "image/png": "[encoded data removed]",
      "text/plain": [
       "<matplotlib.figure.Figure at 0xc71f780>"
      ]
     },
     "metadata": {},
     "output_type": "display_data"
    }
   ],
   "source": [
    "survived_rate_with('Sex')\n",
    "#.plot(kind = 'bar')\n",
    "#plt.xlabel('Sex')\n",
    "#plt.ylabel('Survived_rate')\n",
    "#plt.show()"
   ]
  },
  {
   "cell_type": "markdown",
   "metadata": {},
   "source": [
    "    从上数据及图表可以看出，妇女儿童得到了优先的救护；并且生还率均高于50%。"
   ]
  },
  {
   "cell_type": "markdown",
   "metadata": {},
   "source": [
    "    下面我要分析哪个年龄区间的生还率最高。"
   ]
  },
  {
   "cell_type": "code",
   "execution_count": 11,
   "metadata": {},
   "outputs": [
    {
     "data": {
      "image/png": "[encoded data removed]",
      "text/plain": [
       "<matplotlib.figure.Figure at 0xf159278>"
      ]
     },
     "metadata": {},
     "output_type": "display_data"
    }
   ],
   "source": [
    "import seaborn as sns\n",
    "\n",
    "survived_age = titanic[titanic['Survived'] == 1]['Age']\n",
    "#print survived_age.head()\n",
    "not_survived_age = titanic[titanic['Survived'] == 0]['Age']\n",
    "\n",
    "ax = sns.distplot(survived_age, bins=20, color='blue')\n",
    "#g = sns.pairplot(titanic) \n",
    "ax2 = sns.distplot(not_survived_age, bins=20, color='red')"
   ]
  },
  {
   "cell_type": "markdown",
   "metadata": {},
   "source": [
    "    从上图大概可以看出，生还者和非生还者的年龄段都集中在16~40岁，这很难得出结论，所以我们需要对年龄进行分段处理，来计算其存活率。"
   ]
  },
  {
   "cell_type": "code",
   "execution_count": 12,
   "metadata": {
    "scrolled": true
   },
   "outputs": [
    {
     "name": "stdout",
     "output_type": "stream",
     "text": [
      "Number of members in Age_range group\n",
      "           Survived\n",
      "Age_range          \n",
      "[0 ,10)          62\n",
      "[10 ,20)        102\n",
      "[20 ,30)        220\n",
      "[30 ,40)        167\n",
      "[40 ,50)         89\n",
      "[50 ,60)         48\n",
      "[60 ,70)         19\n",
      "[70 ,80)          6\n",
      "[80 ,90)          1\n"
     ]
    },
    {
     "data": {
      "image/png": "[encoded data removed]",
      "text/plain": [
       "<matplotlib.figure.Figure at 0xc813b38>"
      ]
     },
     "metadata": {},
     "output_type": "display_data"
    },
    {
     "data": {
      "image/png": "[encoded data removed]",
      "text/plain": [
       "<matplotlib.figure.Figure at 0xc71f668>"
      ]
     },
     "metadata": {},
     "output_type": "display_data"
    }
   ],
   "source": [
    "survived_rate_with('Age_range') "
   ]
  },
  {
   "cell_type": "markdown",
   "metadata": {},
   "source": [
    "    从上图数据可以看出，生存率最高的是0~10岁的少年及婴儿，其次是30~40岁的青壮年和50~60岁的分组，80~90岁组因样本只有1人，我觉得应该排除在外或者作为特例。"
   ]
  },
  {
   "cell_type": "markdown",
   "metadata": {},
   "source": [
    "# 四 结论\n",
    "    泰坦尼克号上乘客约有1317人，但是数据样本仅有891人，在数据处理过程中除去清理过的数据内容，使用了714人的数据来进行分析，故无法保证全面；就目前分析情况，妇女和儿童会得到优先的救援，并且在一二等舱的乘客的死亡率更低，并且生还者的年龄除了婴幼儿和少年，其次是30~40岁的青壮年和50~60岁的分组。另外由于事故发生时间是夜晚，我认为船舱位置是否靠近救生艇，并且船舱位置是否处于甲板前中段也会对生还率造成影响，但是船舱区域划分及位置数据太少，难以分析。"
   ]
  },
  {
   "cell_type": "markdown",
   "metadata": {},
   "source": [
    "    参考的文章：\n",
    "    https://blog.csdn.net/suzyu12345/article/details/69029106\n",
    "    http://tieba.baidu.com/p/3914410460?see_lz=1\n",
    "    https://zh.wikipedia.org/wiki/%E6%B3%B0%E5%9D%A6%E5%B0%BC%E5%85%8B%E5%8F%B7\n",
    "    age_range函数参考了这篇文章中的年龄算法 https://blog.csdn.net/hewb14/article/details/50520524 "
   ]
  }
 ],
 "metadata": {
  "kernelspec": {
   "display_name": "Python 2",
   "language": "python",
   "name": "python2"
  },
  "language_info": {
   "codemirror_mode": {
    "name": "ipython",
    "version": 2
   },
   "file_extension": ".py",
   "mimetype": "text/x-python",
   "name": "python",
   "nbconvert_exporter": "python",
   "pygments_lexer": "ipython2",
   "version": "2.7.14"
  }
 },
 "nbformat": 4,
 "nbformat_minor": 2
}
